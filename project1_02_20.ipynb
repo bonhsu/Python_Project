{
 "cells": [
  {
   "cell_type": "markdown",
   "id": "3f91711f-4cc3-4595-b673-1041211b0586",
   "metadata": {
    "tags": []
   },
   "source": [
    "# Project 1 \n",
    " Group F: Chung-Pang Hsu and Yan Liu"
   ]
  },
  {
   "cell_type": "markdown",
   "id": "63cf2be2-6b0e-4943-a14c-87dde59f6a51",
   "metadata": {},
   "source": [
    "## Introduction"
   ]
  },
  {
   "cell_type": "markdown",
   "id": "73ba0944-0550-4fed-8cec-dd0412daca1c",
   "metadata": {},
   "source": [
    "In this project, we will analyze a dataset about used motorcycles to predict a value of selling_price for a new motorcycle by finding a constant or simple linear regression.\n",
    "To quantify the quality of the prediction with Root Mean Square Error (RMSE), we will use two numerical methods to find the preditions that minimizes the RMSE.\n",
    "1. Grid search \n",
    "2. Gradient descent\n",
    "This dataset contains information about used motorcycles. The original data can be found on kaggle [here](https://www.kaggle.com/nehalbirla/motorcycle-dataset?select=BIKE+DETAILS.csv). "
   ]
  },
  {
   "cell_type": "markdown",
   "id": "31559c30-2fea-4f13-98c5-51e30c8130f9",
   "metadata": {},
   "source": [
    "The required packages `numpy`, `pandas`, `matplotlib` , `scipy`, `statsmodels.api`, `openpyxl`, `xlrd`."
   ]
  },
  {
   "cell_type": "markdown",
   "id": "d3bc11cf-cf1f-4850-8996-e42dae885fb1",
   "metadata": {},
   "source": [
    "## EDA"
   ]
  },
  {
   "cell_type": "markdown",
   "id": "268766ad-af06-443f-b813-2afc0183cb6d",
   "metadata": {},
   "source": [
    "Import the required packages"
   ]
  },
  {
   "cell_type": "code",
   "execution_count": 1,
   "id": "d2c0a66e-9cab-4e4d-9ec0-1430ac20b3c0",
   "metadata": {},
   "outputs": [],
   "source": [
    "import numpy as np\n",
    "import pandas as pd\n",
    "import matplotlib.pyplot as plt"
   ]
  },
  {
   "cell_type": "markdown",
   "id": "b1535a41-f810-4d60-a7b3-c6fc50adf965",
   "metadata": {},
   "source": [
    "Read in the data set "
   ]
  },
  {
   "cell_type": "code",
   "execution_count": 2,
   "id": "92258798-b77a-43c6-b58b-60c0a4d311b7",
   "metadata": {},
   "outputs": [
    {
     "data": {
      "text/html": [
       "<div>\n",
       "<style scoped>\n",
       "    .dataframe tbody tr th:only-of-type {\n",
       "        vertical-align: middle;\n",
       "    }\n",
       "\n",
       "    .dataframe tbody tr th {\n",
       "        vertical-align: top;\n",
       "    }\n",
       "\n",
       "    .dataframe thead th {\n",
       "        text-align: right;\n",
       "    }\n",
       "</style>\n",
       "<table border=\"1\" class=\"dataframe\">\n",
       "  <thead>\n",
       "    <tr style=\"text-align: right;\">\n",
       "      <th></th>\n",
       "      <th>name</th>\n",
       "      <th>selling_price</th>\n",
       "      <th>year</th>\n",
       "      <th>seller_type</th>\n",
       "      <th>owner</th>\n",
       "      <th>km_driven</th>\n",
       "      <th>ex_showroom_price</th>\n",
       "    </tr>\n",
       "  </thead>\n",
       "  <tbody>\n",
       "    <tr>\n",
       "      <th>0</th>\n",
       "      <td>Royal Enfield Classic 350</td>\n",
       "      <td>175000</td>\n",
       "      <td>2019</td>\n",
       "      <td>Individual</td>\n",
       "      <td>1st owner</td>\n",
       "      <td>350</td>\n",
       "      <td>NaN</td>\n",
       "    </tr>\n",
       "    <tr>\n",
       "      <th>1</th>\n",
       "      <td>Honda Dio</td>\n",
       "      <td>45000</td>\n",
       "      <td>2017</td>\n",
       "      <td>Individual</td>\n",
       "      <td>1st owner</td>\n",
       "      <td>5650</td>\n",
       "      <td>NaN</td>\n",
       "    </tr>\n",
       "    <tr>\n",
       "      <th>2</th>\n",
       "      <td>Royal Enfield Classic Gunmetal Grey</td>\n",
       "      <td>150000</td>\n",
       "      <td>2018</td>\n",
       "      <td>Individual</td>\n",
       "      <td>1st owner</td>\n",
       "      <td>12000</td>\n",
       "      <td>148114.0</td>\n",
       "    </tr>\n",
       "    <tr>\n",
       "      <th>3</th>\n",
       "      <td>Yamaha Fazer FI V 2.0 [2016-2018]</td>\n",
       "      <td>65000</td>\n",
       "      <td>2015</td>\n",
       "      <td>Individual</td>\n",
       "      <td>1st owner</td>\n",
       "      <td>23000</td>\n",
       "      <td>89643.0</td>\n",
       "    </tr>\n",
       "    <tr>\n",
       "      <th>4</th>\n",
       "      <td>Yamaha SZ [2013-2014]</td>\n",
       "      <td>20000</td>\n",
       "      <td>2011</td>\n",
       "      <td>Individual</td>\n",
       "      <td>2nd owner</td>\n",
       "      <td>21000</td>\n",
       "      <td>NaN</td>\n",
       "    </tr>\n",
       "    <tr>\n",
       "      <th>...</th>\n",
       "      <td>...</td>\n",
       "      <td>...</td>\n",
       "      <td>...</td>\n",
       "      <td>...</td>\n",
       "      <td>...</td>\n",
       "      <td>...</td>\n",
       "      <td>...</td>\n",
       "    </tr>\n",
       "    <tr>\n",
       "      <th>1056</th>\n",
       "      <td>Activa 3g</td>\n",
       "      <td>17000</td>\n",
       "      <td>2010</td>\n",
       "      <td>Individual</td>\n",
       "      <td>1st owner</td>\n",
       "      <td>500000</td>\n",
       "      <td>52000.0</td>\n",
       "    </tr>\n",
       "    <tr>\n",
       "      <th>1057</th>\n",
       "      <td>Honda CB twister</td>\n",
       "      <td>16000</td>\n",
       "      <td>2012</td>\n",
       "      <td>Individual</td>\n",
       "      <td>1st owner</td>\n",
       "      <td>33000</td>\n",
       "      <td>51000.0</td>\n",
       "    </tr>\n",
       "    <tr>\n",
       "      <th>1058</th>\n",
       "      <td>Bajaj Discover 125</td>\n",
       "      <td>15000</td>\n",
       "      <td>2013</td>\n",
       "      <td>Individual</td>\n",
       "      <td>2nd owner</td>\n",
       "      <td>35000</td>\n",
       "      <td>57000.0</td>\n",
       "    </tr>\n",
       "    <tr>\n",
       "      <th>1059</th>\n",
       "      <td>Honda CB Shine</td>\n",
       "      <td>12000</td>\n",
       "      <td>2009</td>\n",
       "      <td>Individual</td>\n",
       "      <td>1st owner</td>\n",
       "      <td>53000</td>\n",
       "      <td>58000.0</td>\n",
       "    </tr>\n",
       "    <tr>\n",
       "      <th>1060</th>\n",
       "      <td>Bajaj Pulsar 150</td>\n",
       "      <td>10000</td>\n",
       "      <td>2008</td>\n",
       "      <td>Individual</td>\n",
       "      <td>1st owner</td>\n",
       "      <td>92233</td>\n",
       "      <td>75000.0</td>\n",
       "    </tr>\n",
       "  </tbody>\n",
       "</table>\n",
       "<p>1061 rows × 7 columns</p>\n",
       "</div>"
      ],
      "text/plain": [
       "                                     name  selling_price  year seller_type  \\\n",
       "0               Royal Enfield Classic 350         175000  2019  Individual   \n",
       "1                               Honda Dio          45000  2017  Individual   \n",
       "2     Royal Enfield Classic Gunmetal Grey         150000  2018  Individual   \n",
       "3       Yamaha Fazer FI V 2.0 [2016-2018]          65000  2015  Individual   \n",
       "4                   Yamaha SZ [2013-2014]          20000  2011  Individual   \n",
       "...                                   ...            ...   ...         ...   \n",
       "1056                            Activa 3g          17000  2010  Individual   \n",
       "1057                     Honda CB twister          16000  2012  Individual   \n",
       "1058                   Bajaj Discover 125          15000  2013  Individual   \n",
       "1059                       Honda CB Shine          12000  2009  Individual   \n",
       "1060                     Bajaj Pulsar 150          10000  2008  Individual   \n",
       "\n",
       "          owner  km_driven  ex_showroom_price  \n",
       "0     1st owner        350                NaN  \n",
       "1     1st owner       5650                NaN  \n",
       "2     1st owner      12000           148114.0  \n",
       "3     1st owner      23000            89643.0  \n",
       "4     2nd owner      21000                NaN  \n",
       "...         ...        ...                ...  \n",
       "1056  1st owner     500000            52000.0  \n",
       "1057  1st owner      33000            51000.0  \n",
       "1058  2nd owner      35000            57000.0  \n",
       "1059  1st owner      53000            58000.0  \n",
       "1060  1st owner      92233            75000.0  \n",
       "\n",
       "[1061 rows x 7 columns]"
      ]
     },
     "execution_count": 2,
     "metadata": {},
     "output_type": "execute_result"
    }
   ],
   "source": [
    "bike= pd.read_csv(\"bikeDetails.csv\",sep=',')\n",
    "bike"
   ]
  },
  {
   "cell_type": "markdown",
   "id": "8ce4c973-7cd8-4198-95a2-14db0280bf6a",
   "metadata": {},
   "source": [
    "check and adjust the data type in bike"
   ]
  },
  {
   "cell_type": "code",
   "execution_count": 3,
   "id": "9bb14704-32dd-43ee-84b7-9c70d62278e4",
   "metadata": {},
   "outputs": [
    {
     "data": {
      "text/plain": [
       "name                  object\n",
       "selling_price          int64\n",
       "year                   int64\n",
       "seller_type           object\n",
       "owner                 object\n",
       "km_driven              int64\n",
       "ex_showroom_price    float64\n",
       "dtype: object"
      ]
     },
     "execution_count": 3,
     "metadata": {},
     "output_type": "execute_result"
    }
   ],
   "source": [
    "bike.dtypes"
   ]
  },
  {
   "cell_type": "code",
   "execution_count": 4,
   "id": "f962c44f-c764-43d8-af22-cccaefd2fee1",
   "metadata": {},
   "outputs": [
    {
     "data": {
      "text/plain": [
       "name                   object\n",
       "selling_price           int64\n",
       "year                    int64\n",
       "seller_type          category\n",
       "owner                category\n",
       "km_driven               int64\n",
       "ex_showroom_price     float64\n",
       "dtype: object"
      ]
     },
     "execution_count": 4,
     "metadata": {},
     "output_type": "execute_result"
    }
   ],
   "source": [
    "bike_1=bike.astype({'seller_type':'category', 'owner':'category'})\n",
    "bike_1.dtypes"
   ]
  },
  {
   "cell_type": "markdown",
   "id": "7679eae0-f46a-4cd1-96d6-745a2d907f35",
   "metadata": {},
   "source": [
    "In the bike dataset, 924 motorcycles have only one owner, 123 have two, 11 have three and 3 have four."
   ]
  },
  {
   "cell_type": "code",
   "execution_count": 5,
   "id": "6a7605ad-9380-41a7-ad5d-3d520b563a17",
   "metadata": {},
   "outputs": [
    {
     "data": {
      "text/plain": [
       "1st owner    924\n",
       "2nd owner    123\n",
       "3rd owner     11\n",
       "4th owner      3\n",
       "Name: owner, dtype: int64"
      ]
     },
     "execution_count": 5,
     "metadata": {},
     "output_type": "execute_result"
    }
   ],
   "source": [
    "bike_1.owner.value_counts()"
   ]
  },
  {
   "cell_type": "markdown",
   "id": "12eaf506-f868-4bd8-ace5-21f8c98efbb7",
   "metadata": {},
   "source": [
    "The two-way table shows that most motorcycles were sold by individuals despite the ownership."
   ]
  },
  {
   "cell_type": "code",
   "execution_count": 6,
   "id": "4d88c2d2-94a6-4b5b-93d3-dc343af23795",
   "metadata": {},
   "outputs": [
    {
     "data": {
      "text/html": [
       "<div>\n",
       "<style scoped>\n",
       "    .dataframe tbody tr th:only-of-type {\n",
       "        vertical-align: middle;\n",
       "    }\n",
       "\n",
       "    .dataframe tbody tr th {\n",
       "        vertical-align: top;\n",
       "    }\n",
       "\n",
       "    .dataframe thead th {\n",
       "        text-align: right;\n",
       "    }\n",
       "</style>\n",
       "<table border=\"1\" class=\"dataframe\">\n",
       "  <thead>\n",
       "    <tr style=\"text-align: right;\">\n",
       "      <th>seller_type</th>\n",
       "      <th>Dealer</th>\n",
       "      <th>Individual</th>\n",
       "    </tr>\n",
       "    <tr>\n",
       "      <th>owner</th>\n",
       "      <th></th>\n",
       "      <th></th>\n",
       "    </tr>\n",
       "  </thead>\n",
       "  <tbody>\n",
       "    <tr>\n",
       "      <th>1st owner</th>\n",
       "      <td>4</td>\n",
       "      <td>920</td>\n",
       "    </tr>\n",
       "    <tr>\n",
       "      <th>2nd owner</th>\n",
       "      <td>2</td>\n",
       "      <td>121</td>\n",
       "    </tr>\n",
       "    <tr>\n",
       "      <th>3rd owner</th>\n",
       "      <td>0</td>\n",
       "      <td>11</td>\n",
       "    </tr>\n",
       "    <tr>\n",
       "      <th>4th owner</th>\n",
       "      <td>0</td>\n",
       "      <td>3</td>\n",
       "    </tr>\n",
       "  </tbody>\n",
       "</table>\n",
       "</div>"
      ],
      "text/plain": [
       "seller_type  Dealer  Individual\n",
       "owner                          \n",
       "1st owner         4         920\n",
       "2nd owner         2         121\n",
       "3rd owner         0          11\n",
       "4th owner         0           3"
      ]
     },
     "execution_count": 6,
     "metadata": {},
     "output_type": "execute_result"
    }
   ],
   "source": [
    "pd.crosstab(bike_1.owner, bike_1.seller_type)"
   ]
  },
  {
   "cell_type": "markdown",
   "id": "14b27240-bab5-4a8a-9153-120b8a3e44cb",
   "metadata": {},
   "source": [
    "Compare selling_price among the owners"
   ]
  },
  {
   "cell_type": "code",
   "execution_count": 7,
   "id": "27da58e0-5f83-44a1-b310-b9181c4505dd",
   "metadata": {},
   "outputs": [
    {
     "data": {
      "image/png": "[encoded data removed]",
      "text/plain": [
       "<Figure size 432x288 with 1 Axes>"
      ]
     },
     "metadata": {
      "needs_background": "light"
     },
     "output_type": "display_data"
    }
   ],
   "source": [
    "plt.close()\n",
    "bike_1.boxplot(column=['selling_price'],by=['owner'])\n",
    "plt.xlabel(\"owner\")\n",
    "plt.ylabel(\"selling_pric\")\n",
    "plt.title(\"compare selling_price among the owners\")\n",
    "plt.suptitle('')\n",
    "plt.show()"
   ]
  },
  {
   "cell_type": "markdown",
   "id": "37c3a660-7578-412a-b2c7-9b6ecb2130f1",
   "metadata": {},
   "source": [
    "check the correlation between all the variables"
   ]
  },
  {
   "cell_type": "code",
   "execution_count": 8,
   "id": "4cb52735-ecea-4ff2-9742-6427d48a3714",
   "metadata": {},
   "outputs": [
    {
     "data": {
      "text/html": [
       "<div>\n",
       "<style scoped>\n",
       "    .dataframe tbody tr th:only-of-type {\n",
       "        vertical-align: middle;\n",
       "    }\n",
       "\n",
       "    .dataframe tbody tr th {\n",
       "        vertical-align: top;\n",
       "    }\n",
       "\n",
       "    .dataframe thead th {\n",
       "        text-align: right;\n",
       "    }\n",
       "</style>\n",
       "<table border=\"1\" class=\"dataframe\">\n",
       "  <thead>\n",
       "    <tr style=\"text-align: right;\">\n",
       "      <th></th>\n",
       "      <th>selling_price</th>\n",
       "      <th>year</th>\n",
       "      <th>km_driven</th>\n",
       "      <th>ex_showroom_price</th>\n",
       "    </tr>\n",
       "  </thead>\n",
       "  <tbody>\n",
       "    <tr>\n",
       "      <th>selling_price</th>\n",
       "      <td>1.000000</td>\n",
       "      <td>0.402188</td>\n",
       "      <td>-0.212937</td>\n",
       "      <td>0.918583</td>\n",
       "    </tr>\n",
       "    <tr>\n",
       "      <th>year</th>\n",
       "      <td>0.402188</td>\n",
       "      <td>1.000000</td>\n",
       "      <td>-0.288675</td>\n",
       "      <td>0.126378</td>\n",
       "    </tr>\n",
       "    <tr>\n",
       "      <th>km_driven</th>\n",
       "      <td>-0.212937</td>\n",
       "      <td>-0.288675</td>\n",
       "      <td>1.000000</td>\n",
       "      <td>-0.122011</td>\n",
       "    </tr>\n",
       "    <tr>\n",
       "      <th>ex_showroom_price</th>\n",
       "      <td>0.918583</td>\n",
       "      <td>0.126378</td>\n",
       "      <td>-0.122011</td>\n",
       "      <td>1.000000</td>\n",
       "    </tr>\n",
       "  </tbody>\n",
       "</table>\n",
       "</div>"
      ],
      "text/plain": [
       "                   selling_price      year  km_driven  ex_showroom_price\n",
       "selling_price           1.000000  0.402188  -0.212937           0.918583\n",
       "year                    0.402188  1.000000  -0.288675           0.126378\n",
       "km_driven              -0.212937 -0.288675   1.000000          -0.122011\n",
       "ex_showroom_price       0.918583  0.126378  -0.122011           1.000000"
      ]
     },
     "execution_count": 8,
     "metadata": {},
     "output_type": "execute_result"
    }
   ],
   "source": [
    "bike.corr()"
   ]
  },
  {
   "cell_type": "markdown",
   "id": "b8158c71-9def-4f6f-9fc7-51a46fd93e2a",
   "metadata": {},
   "source": [
    "count the number of missing values in ex_showrrom_price."
   ]
  },
  {
   "cell_type": "code",
   "execution_count": 9,
   "id": "27ab5ab2-5eaa-4337-8094-c70c73060320",
   "metadata": {},
   "outputs": [
    {
     "data": {
      "text/plain": [
       "435"
      ]
     },
     "execution_count": 9,
     "metadata": {},
     "output_type": "execute_result"
    }
   ],
   "source": [
    "bike['ex_showroom_price'].isnull().sum()"
   ]
  },
  {
   "cell_type": "markdown",
   "id": "89ed8e3a-cee0-4e0f-8966-8fdda14001a7",
   "metadata": {},
   "source": [
    "Create a histogram of selling price"
   ]
  },
  {
   "cell_type": "code",
   "execution_count": 10,
   "id": "8adcd37a-671c-4264-87be-2dae5cc644f2",
   "metadata": {},
   "outputs": [
    {
     "data": {
      "text/plain": [
       "<AxesSubplot:ylabel='Frequency'>"
      ]
     },
     "execution_count": 10,
     "metadata": {},
     "output_type": "execute_result"
    },
    {
     "data": {
      "image/png": "[encoded data removed]",
      "text/plain": [
       "<Figure size 432x288 with 1 Axes>"
      ]
     },
     "metadata": {
      "needs_background": "light"
     },
     "output_type": "display_data"
    }
   ],
   "source": [
    "bike['selling_price'].plot.hist(bins=20,alpha=0.5)"
   ]
  },
  {
   "cell_type": "markdown",
   "id": "798bea12-ef4c-4289-ba1f-39fa347fcfc3",
   "metadata": {},
   "source": [
    "Create a density plot of selling price"
   ]
  },
  {
   "cell_type": "code",
   "execution_count": 11,
   "id": "7c31998d-0c05-41c5-960c-6699455022e6",
   "metadata": {},
   "outputs": [
    {
     "data": {
      "text/plain": [
       "<AxesSubplot:ylabel='Density'>"
      ]
     },
     "execution_count": 11,
     "metadata": {},
     "output_type": "execute_result"
    },
    {
     "data": {
      "image/png": "[encoded data removed]",
      "text/plain": [
       "<Figure size 432x288 with 1 Axes>"
      ]
     },
     "metadata": {
      "needs_background": "light"
     },
     "output_type": "display_data"
    }
   ],
   "source": [
    "bike['selling_price'].plot.density(bw_method=0.5)"
   ]
  },
  {
   "cell_type": "markdown",
   "id": "e091848f-c763-4e1f-8a06-59bba97834d4",
   "metadata": {},
   "source": [
    "Describe the distribution of selling price"
   ]
  },
  {
   "cell_type": "code",
   "execution_count": 12,
   "id": "2c507a9d-f63f-4465-9d61-0f082294e938",
   "metadata": {},
   "outputs": [
    {
     "data": {
      "text/plain": [
       "count      1061.000000\n",
       "mean      59638.151744\n",
       "std       56304.291973\n",
       "min        5000.000000\n",
       "5%        15000.000000\n",
       "50%       45000.000000\n",
       "95%      150000.000000\n",
       "max      760000.000000\n",
       "Name: selling_price, dtype: float64"
      ]
     },
     "execution_count": 12,
     "metadata": {},
     "output_type": "execute_result"
    }
   ],
   "source": [
    "bike['selling_price'].describe(percentiles = [0.05, 0.95])"
   ]
  },
  {
   "cell_type": "markdown",
   "id": "58015be8-f299-415a-957f-5d3adfc2f808",
   "metadata": {},
   "source": [
    "Fit a simple linear regression as a reference for later analysis.\n",
    "Find the theoretical optimal value of intercept (b0) and slope (b1) by simple linear regression in later prediction. "
   ]
  },
  {
   "cell_type": "code",
   "execution_count": 13,
   "id": "4493a078-1892-4120-b485-cd180676eec0",
   "metadata": {},
   "outputs": [
    {
     "name": "stdout",
     "output_type": "stream",
     "text": [
      "67618.07212024048 -0.2322456088674644\n"
     ]
    }
   ],
   "source": [
    "import scipy.stats as stats\n",
    "slope, intercept, *_ = stats.linregress(bike['km_driven'],bike['selling_price'])\n",
    "print(intercept, slope)"
   ]
  },
  {
   "cell_type": "markdown",
   "id": "e58e7cc9-4491-49cf-a2eb-c77873a6f239",
   "metadata": {},
   "source": [
    "Create a scatterplot to check the relationship between selling price and driven km. Add a fitted regression line to the plot."
   ]
  },
  {
   "cell_type": "code",
   "execution_count": 14,
   "id": "9c082831-4c4b-4fe2-9036-3107fdfca345",
   "metadata": {},
   "outputs": [
    {
     "data": {
      "image/png": "[encoded data removed]",
      "text/plain": [
       "<Figure size 432x288 with 1 Axes>"
      ]
     },
     "metadata": {
      "needs_background": "light"
     },
     "output_type": "display_data"
    }
   ],
   "source": [
    "yhat = intercept + slope * bike['km_driven']\n",
    "plt.close()\n",
    "bike.plot.scatter(x='km_driven',y='selling_price')\n",
    "plt.plot(bike['km_driven'], yhat, c = \"Red\", label = \"SLR fit\")\n",
    "plt.title(\"correlation between km_driven and selling_price\")\n",
    "plt.show()"
   ]
  },
  {
   "cell_type": "markdown",
   "id": "90d7d8ee-fa21-4d28-b7e0-6be3f935c3f5",
   "metadata": {},
   "source": [
    "## Prediction of selling_price\n",
    "We will try to predict a value of selling_price for a new motorcycle by using two methods (finding the optimal value of c and using a simple linear regression model), each done with two algorithms (Grid Search Algorithm and Gradient Descent Algorithm).\n",
    "### Grid Search Algorithm\n",
    "#### A grid search to find the optimal value of c"
   ]
  },
  {
   "cell_type": "markdown",
   "id": "ee1a6c6a-44d3-4fca-a662-87e93ca40fc8",
   "metadata": {},
   "source": [
    "We are going to implement a grid search to find the optimal value of c based off of our data set."
   ]
  },
  {
   "cell_type": "markdown",
   "id": "df09d539-439e-4695-ad1b-f615971b8097",
   "metadata": {},
   "source": [
    "Create a grid of values for c. Use your EDA to determine reasonable values to consider for c. To aviod the long runing time, we only searched 5% of selling_price 15000.000000 and 95% of selling_price 150000.000000 as reported in EDA part above."
   ]
  },
  {
   "cell_type": "code",
   "execution_count": 15,
   "id": "db73addd-c274-47de-9419-859bb46309d9",
   "metadata": {},
   "outputs": [],
   "source": [
    "c1=[x*100 for x in range(150,1500)]"
   ]
  },
  {
   "cell_type": "markdown",
   "id": "fe9700e5-cca0-48d0-8c9b-9dbf48432e8d",
   "metadata": {},
   "source": [
    "Create a root mean squared error (objective) function from a list (y) and a constant (c)"
   ]
  },
  {
   "cell_type": "code",
   "execution_count": 16,
   "id": "97eb2c26-4e20-4081-96c4-36db7b59fbed",
   "metadata": {},
   "outputs": [],
   "source": [
    "def find_RMSE(y,c):\n",
    "    return np.sqrt(sum((x-c)**2 for x in y)/len(y)) "
   ]
  },
  {
   "cell_type": "markdown",
   "id": "9a4b4a48-5526-4eea-95a8-15eca60567b8",
   "metadata": {},
   "source": [
    "Create a function to find the minimum and return its loction in the list."
   ]
  },
  {
   "cell_type": "code",
   "execution_count": 17,
   "id": "47825dea-79ab-4989-aec8-a33e90f47dd6",
   "metadata": {},
   "outputs": [],
   "source": [
    "def find_min(x):\n",
    "    start=float(\"inf\")\n",
    "    j=0\n",
    "    for i in range(0, len(x)):\n",
    "        if x[i]<start:\n",
    "            start=x[i]        \n",
    "            j=i\n",
    "    return j     "
   ]
  },
  {
   "cell_type": "markdown",
   "id": "158aeef4-d274-463d-98e9-8acfe12b0d84",
   "metadata": {},
   "source": [
    "Loop over the grid of c values, finding the c with the optimal (smallest) RMSE"
   ]
  },
  {
   "cell_type": "code",
   "execution_count": 18,
   "id": "883cbeee-ab21-492d-92fb-126308ce79c4",
   "metadata": {},
   "outputs": [
    {
     "data": {
      "text/plain": [
       "59600"
      ]
     },
     "execution_count": 18,
     "metadata": {},
     "output_type": "execute_result"
    }
   ],
   "source": [
    "c1[find_min([find_RMSE(bike['selling_price'],R) for R in c1])]"
   ]
  },
  {
   "cell_type": "markdown",
   "id": "eb2b048e-75e0-46d9-9c91-5e159f388159",
   "metadata": {},
   "source": [
    "59600 is very close to the sample mean of selling_price 59638"
   ]
  },
  {
   "cell_type": "code",
   "execution_count": 19,
   "id": "efb932a6-9153-48d4-a56d-659b759a78d5",
   "metadata": {},
   "outputs": [
    {
     "data": {
      "text/plain": [
       "count      1061.000000\n",
       "mean      34359.833176\n",
       "std       51623.152702\n",
       "min         350.000000\n",
       "5%         3500.000000\n",
       "50%       25000.000000\n",
       "95%       80000.000000\n",
       "max      880000.000000\n",
       "Name: km_driven, dtype: float64"
      ]
     },
     "execution_count": 19,
     "metadata": {},
     "output_type": "execute_result"
    }
   ],
   "source": [
    "bike['km_driven'].describe(percentiles = [0.05, 0.95])"
   ]
  },
  {
   "cell_type": "markdown",
   "id": "450ee3f6-983e-4aff-95f1-511da5cd56ba",
   "metadata": {},
   "source": [
    "Run it using the km_driven variable as the response"
   ]
  },
  {
   "cell_type": "code",
   "execution_count": 20,
   "id": "9e44f8f3-c2c1-4d13-8cb5-787789fb49ea",
   "metadata": {},
   "outputs": [
    {
     "data": {
      "text/plain": [
       "34400"
      ]
     },
     "execution_count": 20,
     "metadata": {},
     "output_type": "execute_result"
    }
   ],
   "source": [
    "c1[find_min([find_RMSE(bike['km_driven'],R) for R in c1])]"
   ]
  },
  {
   "cell_type": "markdown",
   "id": "da6f1b21-a7e7-4a33-9c5e-a4c4a33b6a13",
   "metadata": {
    "tags": []
   },
   "source": [
    "34400 is very close to the sample mean of km_driven  34359"
   ]
  },
  {
   "cell_type": "markdown",
   "id": "d20c02a1-fdd2-49b1-8264-02f5f0c3f7d4",
   "metadata": {},
   "source": [
    "### Using y and another numeric variable x"
   ]
  },
  {
   "cell_type": "markdown",
   "id": "377b4632-b567-48dc-9b02-81045013692a",
   "metadata": {},
   "source": [
    "Create a grid of possible b0 and b1 based on the scatter plot between selling price and driven km. estimate b0 is within (50000,100000), b1 is within (-1,0)."
   ]
  },
  {
   "cell_type": "code",
   "execution_count": 21,
   "id": "353e5c9e-eaa2-4466-9780-4a73144ad449",
   "metadata": {},
   "outputs": [
    {
     "data": {
      "text/plain": [
       "(50000, -0.995)"
      ]
     },
     "execution_count": 21,
     "metadata": {},
     "output_type": "execute_result"
    }
   ],
   "source": [
    "import itertools\n",
    "b0=[x for x in range(50000,100000,1000)]\n",
    "b1=[x*0.001 for x in range(-1000,0,5)]\n",
    "c2 = list(itertools.product(b0, b1))\n",
    "c2[1]"
   ]
  },
  {
   "cell_type": "code",
   "execution_count": 22,
   "id": "8bcef6e2-1ac8-43cb-ba19-5066ec58bab7",
   "metadata": {},
   "outputs": [
    {
     "data": {
      "text/plain": [
       "10000"
      ]
     },
     "execution_count": 22,
     "metadata": {},
     "output_type": "execute_result"
    }
   ],
   "source": [
    "len(c2)"
   ]
  },
  {
   "cell_type": "markdown",
   "id": "b06012c1-4bf7-4f8c-865b-1e083151ca95",
   "metadata": {},
   "source": [
    "Define a new find_RMSE function for list instead of a constant value.\n",
    "Define a function to get the RMSE of all the pairs of values for b0 and b1 using km_driven as your x variable and selling_price as your y variable."
   ]
  },
  {
   "cell_type": "code",
   "execution_count": 23,
   "id": "2a73be91-afa9-4421-af0a-cd8c66290591",
   "metadata": {},
   "outputs": [],
   "source": [
    "def find_RMSE_2(y,y_predticted):\n",
    "    return np.sqrt(sum((y[i]-y_predticted[i])**2 for i in range(0, len(y)))/len(y))\n",
    "\n",
    "def find_beta(b):\n",
    "    y_predticted=b[0]+b[1]*bike['km_driven']                \n",
    "    return find_RMSE_2(bike['selling_price'], y_predticted)"
   ]
  },
  {
   "cell_type": "markdown",
   "id": "c94718f8-cd0d-4d91-8bdc-b56624da434e",
   "metadata": {},
   "source": [
    "The “best” combination of b0=68000 and b1=-0.235 has the optimal (smallest) RMSE\n",
    "They are very close to the fitted coeffiecents in the simple linear regression (67620,-0.2322). "
   ]
  },
  {
   "cell_type": "code",
   "execution_count": 24,
   "id": "35757675-7abc-42fd-b470-2baac0fc8113",
   "metadata": {},
   "outputs": [
    {
     "data": {
      "text/plain": [
       "(68000, -0.23500000000000001)"
      ]
     },
     "execution_count": 24,
     "metadata": {},
     "output_type": "execute_result"
    }
   ],
   "source": [
    "c2[find_min([find_beta(c2[i]) for i in range(0, len(c2))])]"
   ]
  },
  {
   "cell_type": "markdown",
   "id": "5b405848-b791-4334-b431-84e4dec470aa",
   "metadata": {},
   "source": [
    "predict the selling_price for km_driven of 10000, 25000, and 35000."
   ]
  },
  {
   "cell_type": "code",
   "execution_count": 25,
   "id": "4550ee56-66c9-4192-aabb-6bc400eb0022",
   "metadata": {},
   "outputs": [
    {
     "data": {
      "text/plain": [
       "65650.0"
      ]
     },
     "execution_count": 25,
     "metadata": {},
     "output_type": "execute_result"
    }
   ],
   "source": [
    "yhat_10000=68000-0.235*10000\n",
    "yhat_10000"
   ]
  },
  {
   "cell_type": "code",
   "execution_count": 26,
   "id": "7bf8b138-d10d-4265-902f-61705326a248",
   "metadata": {},
   "outputs": [
    {
     "data": {
      "text/plain": [
       "62125.0"
      ]
     },
     "execution_count": 26,
     "metadata": {},
     "output_type": "execute_result"
    }
   ],
   "source": [
    "yhat_25000=68000-0.235*25000\n",
    "yhat_25000"
   ]
  },
  {
   "cell_type": "code",
   "execution_count": 27,
   "id": "7fbd0954-02f7-4430-8447-201b72316f33",
   "metadata": {},
   "outputs": [
    {
     "data": {
      "text/plain": [
       "59775.0"
      ]
     },
     "execution_count": 27,
     "metadata": {},
     "output_type": "execute_result"
    }
   ],
   "source": [
    "yhat_35000=68000-0.235*35000\n",
    "yhat_35000"
   ]
  },
  {
   "cell_type": "markdown",
   "id": "4def5906-3c9b-45dc-a5ad-765e194341b0",
   "metadata": {},
   "source": [
    "### Gradient Descent Algorithm"
   ]
  },
  {
   "cell_type": "code",
   "execution_count": 28,
   "id": "d26febf1-7e2a-48fe-9f5d-d34941576989",
   "metadata": {},
   "outputs": [],
   "source": [
    "file=pd.read_csv(\"bikeDetails.csv\")"
   ]
  },
  {
   "cell_type": "markdown",
   "id": "6d27b913-9041-4a4e-ac72-007b2456b3fe",
   "metadata": {},
   "source": [
    "Create a series of functions"
   ]
  },
  {
   "cell_type": "code",
   "execution_count": 29,
   "id": "35d64493-a16a-4a2a-9127-f913acb3d1df",
   "metadata": {
    "tags": []
   },
   "outputs": [],
   "source": [
    "#The functions \n",
    "\n",
    "#The function to create grid of c by dividing 2000 data points\n",
    "def grid(s,t):\n",
    "    u=(t-s)/2000\n",
    "    c_g=[s+u*x for x in range(2000)]\n",
    "    return c_g\n",
    "\n",
    "#The loss function array for c. The num arg is for c \n",
    "def lf_c(y_c,num):\n",
    "    y_c=y_c-num\n",
    "    return np.multiply(y_c,y_c)\n",
    "\n",
    "#The loss fuction array for b1 and b0\n",
    "def lf_b0b1(b0,b1):\n",
    "    y_b0b1=np.array(file['selling_price'])\n",
    "    x_b0b1=np.array(file['km_driven'])\n",
    "    l=y_b0b1-b1*x_b0b1-b0\n",
    "    return np.multiply(l,l)\n",
    "\n",
    "#The RMSE function. The num arg is for c \n",
    "def rmse(y_c,num):\n",
    "    return (np.sum((lf_c(y_c,num)))/len(lf_c(y_c,num)))**0.5\n",
    "\n",
    "#The RMSE function for b0 and b1 arg\n",
    "def rmse_b0b1(b0,b1):\n",
    "    return ((lf_b0b1(b0,b1)).sum()/len(lf_b0b1(b0,b1)))**0.5\n",
    "\n",
    "#The derivative function for b0 and b1 arg\n",
    "def diff(y_c,v,st):\n",
    "    return (rmse(y_c,v+st)-rmse(y_c,v))/st\n",
    "\n",
    "#The b0 derivative function for b0 and b1 arg and small step (arg st)\n",
    "def diff_b0(b0,b1,st):\n",
    "    return (rmse_b0b1(b0+st,b1)-rmse_b0b1(b0,b1))/st\n",
    "\n",
    "#The b1 derivative function for b0 and b1 arg and small step (arg st)\n",
    "def diff_b1(b0,b1,st):\n",
    "    return (rmse_b0b1(b0,b1+st)-rmse_b0b1(b0,b1))/st\n",
    "\n",
    "#The distance function for \n",
    "def distance_b0b1(b0,b1,stb0,stb1):\n",
    "    new_b0=b0-diff_b0(b0,b1,stb0)*stb0\n",
    "    new_b1=b1-diff_b1(new_b0,b1,stb1)*stb1\n",
    "    return ((new_b0-b0)**2+(new_b1-b1)**2)**0.5\n",
    "\n",
    "#The function to predict sell price\n",
    "def y(x,b0,b1):\n",
    "    return b1*x+b0"
   ]
  },
  {
   "cell_type": "markdown",
   "id": "1ec92184-a38d-4c34-99e6-3bc7a69f52f9",
   "metadata": {},
   "source": [
    "Grid search to find the optimal value of c"
   ]
  },
  {
   "cell_type": "code",
   "execution_count": 30,
   "id": "d7d383e1-514a-4780-95e0-33d305aae654",
   "metadata": {},
   "outputs": [
    {
     "name": "stdout",
     "output_type": "stream",
     "text": [
      "Coarse search C between  5000  and  760000  at loop number  1\n",
      "Coarse search C between  5000.0  and  80122.5  at loop number  2\n",
      "Coarse search C between  57585.75  and  65060.43875  at loop number  3\n",
      "Coarse search C between  59080.68775  and  59824.419280625  at loop number  4\n",
      "Coarse search C between  59601.2998214375  and  59675.30110873469  at loop number  5\n",
      "Coarse search C between  59630.900336356375  and  59638.26346444245  at loop number  6\n",
      "Fine search C between  59637.52715163384  and  59638.259782878406  at loop number  7\n",
      "The predicted C is 59637.555357936755\n"
     ]
    }
   ],
   "source": [
    "#Setup the parameters\n",
    "step_c=10**-5 #Small c step\n",
    "num_tol=10**-10 #Small tolerance\n",
    "coarse_num=7 #Number of coarse search\n",
    "\n",
    "for i in range(coarse_num):\n",
    "    # At last final fine search\n",
    "    if (i==coarse_num-1):\n",
    "        c_g=grid(rn[0],rn[1])\n",
    "        print(\"Fine search C between \",rn[0],\" and \",rn[1],\" at loop number \",i+1)\n",
    "    # At coarse fine search    \n",
    "    elif (i):\n",
    "        c_g=grid(rn[0],rn[1])\n",
    "        print(\"Coarse search C between \",rn[0],\" and \",rn[1],\" at loop number \",i+1)\n",
    "    # At initial coarse fine search     \n",
    "    else:\n",
    "        c_g=grid(int(file['selling_price'].min()),int(file['selling_price'].max()))\n",
    "        print(\"Coarse search C between \",int(file['selling_price'].min()),\" and \",int(file['selling_price'].max()),\" at loop number \",i+1)\n",
    "    #Initial search range start and stop points\n",
    "    rn=[]\n",
    "    if i<coarse_num-1:\n",
    "        #coarse find range by Gradient Descent Algorithm by 1/10 range. It is much faster than the searching point by point \n",
    "        for j in range(10):\n",
    "        #Determine if optimized c is within the range by slope changing by negative to positive\n",
    "            if (diff(np.array(file['selling_price']),c_g[200*j],step_c)<0 and diff(np.array(file['selling_price']),c_g[200*j+199],step_c)>=0):\n",
    "                rn.append(c_g[200*j])\n",
    "                rn.append(c_g[200*j+199])\n",
    "                break\n",
    "    else:\n",
    "        #Fine find range by Gradient Descent Algorithm each point of 2000 points \n",
    "        for lp in range(2000):\n",
    "            if diff(np.array(file['selling_price']),c_g[lp],step_c)<0:\n",
    "                #Determine if abs(new_c - cur_c) < num_tol is  met or not\n",
    "                if (lp) and (abs(step_c*diff(np.array(file['selling_price']),c_g[lp],step_c))<num_tol):\n",
    "                    final_c=c_g[lp]            \n",
    "                    break\n",
    "print(\"The predicted C is\", final_c)        "
   ]
  },
  {
   "cell_type": "code",
   "execution_count": 31,
   "id": "ad9c4d26-a8c6-4b9a-9b39-5841e50c4a4a",
   "metadata": {},
   "outputs": [
    {
     "name": "stdout",
     "output_type": "stream",
     "text": [
      "Coarse search X between  350  and  880000  at loop number  1\n",
      "Coarse search X between  350.0  and  87875.175  at loop number  2\n",
      "Coarse search X between  26607.5525  and  35316.3074125  at loop number  3\n",
      "Coarse search X between  33574.55643  and  34441.07754379375  at loop number  4\n",
      "Coarse search X between  34354.42543241437  and  34440.64428323685  at loop number  5\n",
      "Coarse search X between  34354.42543241437  and  34363.00420807121  at loop number  6\n",
      "Fine search X between  34359.57269780847  and  34360.42628598633  at loop number  7\n",
      "The predicted X is 34359.57312460256\n"
     ]
    }
   ],
   "source": [
    "#Setup the parameters\n",
    "step_c=10**-5 #Small c step\n",
    "num_tol=10**-10 #Small tolerance\n",
    "coarse_num=7 #Number of coarse search\n",
    "\n",
    "for i in range(coarse_num):\n",
    "    # At last final fine search\n",
    "    if (i==coarse_num-1):\n",
    "        c_g=grid(rn[0],rn[1])\n",
    "        print(\"Fine search X between \",rn[0],\" and \",rn[1],\" at loop number \",i+1)\n",
    "    # At coarse fine search    \n",
    "    elif (i):\n",
    "        c_g=grid(rn[0],rn[1])\n",
    "        print(\"Coarse search X between \",rn[0],\" and \",rn[1],\" at loop number \",i+1)\n",
    "    # At initial coarse fine search     \n",
    "    else:\n",
    "        c_g=grid(int(file['km_driven'].min()),int(file['km_driven'].max()))\n",
    "        print(\"Coarse search X between \",int(file['km_driven'].min()),\" and \",int(file['km_driven'].max()),\" at loop number \",i+1)\n",
    "    #Initial search range start and stop points\n",
    "    rn=[]\n",
    "    if i<coarse_num-1:\n",
    "        #coarse find range by Gradient Descent Algorithm by 1/10 range. It is much faster than the searching point by point \n",
    "        for j in range(10):\n",
    "        #Determine if optimized c is within the range by slope changing by negative to positive\n",
    "            if (diff(np.array(file['km_driven']),c_g[200*j],step_c)<0 and diff(np.array(file['km_driven']),c_g[200*j+199],step_c)>=0):\n",
    "                rn.append(c_g[200*j])\n",
    "                rn.append(c_g[200*j+199])\n",
    "                break\n",
    "    else:\n",
    "        #Fine find range by Gradient Descent Algorithm each point of 2000 points \n",
    "        for lp in range(2000):\n",
    "            if diff(np.array(file['km_driven']),c_g[lp],step_c)<0:\n",
    "                #Determine if abs(new_c - cur_c) < num_tol is  met or not\n",
    "                if (lp) and (abs(step_c*diff(np.array(file['km_driven']),c_g[lp],step_c))<num_tol):\n",
    "                    final_c=c_g[lp]            \n",
    "                    break\n",
    "print(\"The predicted X is\", final_c)   "
   ]
  },
  {
   "cell_type": "markdown",
   "id": "b8f6c5e8-9795-4673-93be-26f3ccf2caf3",
   "metadata": {},
   "source": [
    "Implement the gradient descent idea to find the optimal value of b0 and b1"
   ]
  },
  {
   "cell_type": "code",
   "execution_count": 32,
   "id": "0706b940-d7e2-4692-8f33-331095cd8d96",
   "metadata": {},
   "outputs": [
    {
     "name": "stdout",
     "output_type": "stream",
     "text": [
      "Search b0 between  [40000.0, 45970.0] and b1 betweem  [-3.0, -2.403]  at loop number  1\n",
      "Search b0 between  [46000.0, 51970.0] and b1 betweem  [-2.4, -1.803]  at loop number  1\n",
      "Search b0 between  [52000.0, 57970.0] and b1 betweem  [-1.8, -1.203]  at loop number  1\n",
      "Search b0 between  [58000.0, 63970.0] and b1 betweem  [-1.2, -0.6029999999999998]  at loop number  1\n",
      "Search b0 between  [64000.0, 69970.0] and b1 betweem  [-0.6000000000000001, -0.0030000000000001137]  at loop number  1\n",
      "Coarse search b0 between  [64000.0, 69970.0] and b1 betweem  [-0.6000000000000001, -0.0030000000000001137]  at loop number  1\n",
      "Search b0 between  [64000.0, 64594.015] and b1 betweem  [-0.6000000000000001, -0.5405985000000001]  at loop number  2\n",
      "Search b0 between  [64597.0, 65191.015] and b1 betweem  [-0.5403000000000001, -0.4808985000000001]  at loop number  2\n",
      "Search b0 between  [65194.0, 65788.015] and b1 betweem  [-0.4806000000000001, -0.4211985000000001]  at loop number  2\n",
      "Search b0 between  [65791.0, 66385.015] and b1 betweem  [-0.4209000000000001, -0.36149850000000006]  at loop number  2\n",
      "Search b0 between  [66388.0, 66982.015] and b1 betweem  [-0.3612000000000001, -0.3017985000000001]  at loop number  2\n",
      "Search b0 between  [66985.0, 67579.015] and b1 betweem  [-0.3015000000000001, -0.2420985000000001]  at loop number  2\n",
      "Search b0 between  [67582.0, 68176.015] and b1 betweem  [-0.24180000000000013, -0.18239850000000007]  at loop number  2\n",
      "Coarse search b0 between  [67582.0, 68176.015] and b1 betweem  [-0.24180000000000013, -0.18239850000000007]  at loop number  2\n",
      "Search b0 between  [67582.0, 67641.1044925] and b1 betweem  [-0.24180000000000013, -0.23588955075000012]  at loop number  3\n",
      "Search b0 between  [67641.4015, 67700.5059925] and b1 betweem  [-0.23585985000000012, -0.22994940075000012]  at loop number  3\n",
      "Coarse search b0 between  [67641.4015, 67700.5059925] and b1 betweem  [-0.23585985000000012, -0.22994940075000012]  at loop number  3\n",
      "Fine search b0 between  [67641.4015, 67700.47644025374] and b1 betweem  [-0.23585985000000012, -0.22995235597462513]  at loop number  4\n",
      "The predicted B0 is 67659.04419105235\n",
      "The predicted B1 is -0.22407585212321507\n"
     ]
    }
   ],
   "source": [
    "#Setup the parameters\n",
    "step_b0=10**-4 #Small b0 step\n",
    "step_b1=10**-4 #Small b1 step\n",
    "b0b1_coarse_num=4  #Number of coarse search\n",
    "num_tol_dis=0.01 #Distance tolerance\n",
    "\n",
    "for i in range(b0b1_coarse_num):\n",
    "    if (i):\n",
    "        b0_g=grid(rn_b0[0],rn_b0[1])\n",
    "        b1_g=grid(rn_b1[0],rn_b1[1]) \n",
    "    else:\n",
    "        #Initial search range\n",
    "        b0_g=grid(40000,100000)\n",
    "        b1_g=grid(-3,3)  \n",
    "    #Initial search range of b0 and b1\n",
    "    rn_b0=[]\n",
    "    rn_b1=[]\n",
    "    if  i<b0b1_coarse_num-1:\n",
    "    #coarse find range by Gradient Descent Algorithm by 1/10 range. It is much faster than the searching point by point \n",
    "        for j in range(10):\n",
    "            print(\"Search b0 between \",[b0_g[200*j],b0_g[200*j+199]],\"and b1 betweem \",[b1_g[200*j],b1_g[200*j+199]],\" at loop number \",i+1)\n",
    "            #Determining if optimized b0 and b1 is within the range by delta of distance become negative \n",
    "            if ((distance_b0b1(b0_g[200*j+198],b1_g[200*j+198],step_b0,step_b1)-distance_b0b1(b0_g[200*j+199],b1_g[200*j+199],step_b0,step_b1))<0):\n",
    "                rn_b0.append(b0_g[200*j])\n",
    "                rn_b0.append(b0_g[200*j+199])\n",
    "                rn_b1.append(b1_g[200*j])\n",
    "                rn_b1.append(b1_g[200*j+199])\n",
    "                print(\"Coarse search b0 between \",rn_b0,\"and b1 betweem \",rn_b1,\" at loop number \",i+1)\n",
    "                break                        \n",
    "    else:\n",
    "        #Fine find range by Gradient Descent Algorithm each point of 2000 points\n",
    "        print(\"Fine search b0 between \",[b0_g[0],b0_g[1999]],\"and b1 betweem \",[b1_g[0],b1_g[1999]],\" at loop number \",i+1)\n",
    "        for lp in range(2000):           \n",
    "            new_b0=b0_g[lp]-diff_b0(b0_g[lp],b1_g[lp],step_b0)*step_b0 \n",
    "            if (diff_b0(b0_g[lp],b1_g[lp],step_b0)<0 and diff_b1(new_b0,b1_g[lp],step_b1))<0:   \n",
    "                #Determine if if the distance between the cur_b0, cur_b1 vector to the new_b0, new_b1 vector is less than small tolerance\n",
    "                if ((i) and (distance_b0b1(b0_g[lp],b1_g[lp],step_b0,step_b1)<num_tol_dis)):\n",
    "                    final_b0=b0_g[lp-1]-diff_b0(b0_g[lp-1],b1_g[lp-1],step_b0)*step_b0\n",
    "                    final_b1=b1_g[lp-1]-diff_b1(final_b0,b1_g[lp-1],step_b1)*step_b1\n",
    "                    break              \n",
    "print(\"The predicted B0 is\", final_b0)  \n",
    "print(\"The predicted B1 is\", final_b1)   "
   ]
  },
  {
   "cell_type": "markdown",
   "id": "357b03b8-2d27-42f9-945c-3bfda0d983f5",
   "metadata": {},
   "source": [
    "predict the selling_price for km_driven of 10000, 25000, and 35000."
   ]
  },
  {
   "cell_type": "code",
   "execution_count": 33,
   "id": "5edd4d2b-4584-4f50-b716-f6b946ef1af4",
   "metadata": {},
   "outputs": [
    {
     "name": "stdout",
     "output_type": "stream",
     "text": [
      "Predict selling_price for km_driven of 10000, 25000, and 35000 are respectively:65418.2856698202, 62057.14788797197 and 59816.38936673982\n"
     ]
    }
   ],
   "source": [
    "print(\"Predict selling_price for km_driven of 10000, 25000, and 35000 are respectively:\"+str(y(10000,final_b0,final_b1))+\", \"+str(y(25000,final_b0,final_b1))+\" and \"+str(y(35000,final_b0,final_b1)))"
   ]
  }
 ],
 "metadata": {
  "kernelspec": {
   "display_name": "Python 3 (ipykernel)",
   "language": "python",
   "name": "python3"
  },
  "language_info": {
   "codemirror_mode": {
    "name": "ipython",
    "version": 3
   },
   "file_extension": ".py",
   "mimetype": "text/x-python",
   "name": "python",
   "nbconvert_exporter": "python",
   "pygments_lexer": "ipython3",
   "version": "3.10.1"
  }
 },
 "nbformat": 4,
 "nbformat_minor": 5
}
